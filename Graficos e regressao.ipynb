{
 "cells": [
  {
   "cell_type": "markdown",
   "metadata": {},
   "source": [
    "# Trabalho de Algebra Linear e Computacional"
   ]
  },
  {
   "cell_type": "markdown",
   "metadata": {},
   "source": [
    "# Introdução"
   ]
  },
  {
   "cell_type": "markdown",
   "metadata": {},
   "source": [
    "   Este trabalho tem como objetivos, mostrar a implementação de 3 métodos de decomposição de matrizes,   \n",
    "    1. Gram-Schmidt\n",
    "    2. Rotação de Givens\n",
    "    3. Householder\n",
    "    \n",
    "   bem como mostrar gráficos e testes demonstrando tempo de execução,vantagens e desvantagens de cada metodo, e modelos de regressão com e sem \n",
    "    log-scale para cada metodo já citado."
   ]
  },
  {
   "cell_type": "code",
   "execution_count": 2,
   "metadata": {},
   "outputs": [
    {
     "ename": "ModuleNotFoundError",
     "evalue": "No module named 'scipy'",
     "output_type": "error",
     "traceback": [
      "\u001b[0;31m---------------------------------------------------------------------------\u001b[0m",
      "\u001b[0;31mModuleNotFoundError\u001b[0m                       Traceback (most recent call last)",
      "\u001b[0;32m<ipython-input-2-cf531d629eef>\u001b[0m in \u001b[0;36m<module>\u001b[0;34m()\u001b[0m\n\u001b[1;32m      2\u001b[0m \u001b[0;32mimport\u001b[0m \u001b[0mitertools\u001b[0m \u001b[0;32mas\u001b[0m \u001b[0mit\u001b[0m\u001b[0;34m\u001b[0m\u001b[0;34m\u001b[0m\u001b[0m\n\u001b[1;32m      3\u001b[0m \u001b[0;32mimport\u001b[0m \u001b[0mmath\u001b[0m\u001b[0;34m\u001b[0m\u001b[0;34m\u001b[0m\u001b[0m\n\u001b[0;32m----> 4\u001b[0;31m \u001b[0;32mfrom\u001b[0m \u001b[0mscipy\u001b[0m\u001b[0;34m.\u001b[0m\u001b[0mlinalg\u001b[0m \u001b[0;32mimport\u001b[0m \u001b[0mlu\u001b[0m\u001b[0;34m\u001b[0m\u001b[0;34m\u001b[0m\u001b[0m\n\u001b[0m\u001b[1;32m      5\u001b[0m \u001b[0;32mfrom\u001b[0m \u001b[0mscipy\u001b[0m\u001b[0;34m.\u001b[0m\u001b[0mlinalg\u001b[0m \u001b[0;32mimport\u001b[0m \u001b[0mlstsq\u001b[0m\u001b[0;34m\u001b[0m\u001b[0;34m\u001b[0m\u001b[0m\n\u001b[1;32m      6\u001b[0m \u001b[0;32mfrom\u001b[0m \u001b[0msklearn\u001b[0m\u001b[0;34m.\u001b[0m\u001b[0mmetrics\u001b[0m \u001b[0;32mimport\u001b[0m \u001b[0mmean_squared_error\u001b[0m\u001b[0;34m\u001b[0m\u001b[0;34m\u001b[0m\u001b[0m\n",
      "\u001b[0;31mModuleNotFoundError\u001b[0m: No module named 'scipy'"
     ]
    }
   ],
   "source": [
    "import numpy as np\n",
    "import pandas as pd\n",
    "import itertools as it\n",
    "import math\n",
    "from scipy.linalg import lu\n",
    "from scipy.linalg import lstsq\n",
    "from sklearn.metrics import mean_squared_error\n",
    "import matplotlib.pyplot as plt\n",
    "import time\n",
    "plt.style.use('seaborn-whitegrid')"
   ]
  },
  {
   "cell_type": "markdown",
   "metadata": {},
   "source": [
    "# Gram-Schmidt\n",
    "   Este método obtém uma base ortonormalizada a partir de uma base qualquer, ou seja, transforma um conjunto de vetores linearmente independentes(LI) em um conjunto ortogonal que gera o mesmo espaço vetorial.\n",
    "   \n",
    "   O processo de Gram-Schmidt encontra uma projeção ortogonal $q_n$ para cada vetor de coluna $a_n$ e subtraindo suas projeções para as projeções anteriores. O vetor resultante é então dividido pelo comprimento desse vetor para produzir um vetor unitário.\n",
    "   \n",
    "   Vamos considerar A uma matriz com n vetores-coluna\n",
    "   \n",
    "   $$A = \\left[ a_1 | a_2 | \\cdots | a_n \\right]$$\n",
    "   \n",
    "   Primeiro vamos encontrar a projeção ortogonal de $a_1$\n",
    "   \n",
    "   $$v_1 = a_1, \\qquad e_1 = \\frac{v_1}{||v_1||}$$\n",
    "   \n",
    "   Para o passo seguinte e os demais, devemos subtrair as projeções anteriores: \n",
    "   \n",
    "   $$v_2 = a_2 - proj_{v_1} (a_2) = a_2 - (a_2 \\cdot e_1) e_1, \\qquad e_2 = \\frac{v_2}{||v_2||}$$\n",
    "         \n",
    "   $$v_{k+1} = a_{k+1} - (a_{k+1} \\cdot e_{1}) e_1 - \\cdots - (a_{k+1} \\cdot e_k) e_k, \\qquad e_{k+1} = \\frac{u_{k+1}}{||u_{k+1}||}$$\n",
    "   \n",
    "   No fim, a matriz $A$ pode ser fatorada da seguinte forma \n",
    "\n",
    "$$A = \\left[a_1 | a_2 | \\cdots | a_n \\right] = \\left[e_1 | e_2 | \\cdots | e_n \\right] \\begin{bmatrix}a_1 \\cdot e_1 & a_2 \\cdot e_1 & \\cdots & a_n \\cdot e_1 \\\\ 0 & a_2 \\cdot e_2 & \\cdots & a_n \\cdot e_2 \\\\ \\vdots & \\vdots & & \\vdots \\\\ 0 & 0 & \\cdots & a_n \\cdot e_n\\end{bmatrix} = QR$$\n",
    "   Onde $Q$ é uma matriz ortonormal, ou seja $Q^T Q = I$ onde $I$ é a matriz identidade, e $R$ é uma matriz triangular superior."
   ]
  },
  {
   "cell_type": "code",
   "execution_count": 3,
   "metadata": {},
   "outputs": [],
   "source": [
    "#Gera uma matriz LI\n",
    "def matrizLI(m,n):\n",
    "    A = np.random.randint(0,5,(m,n))\n",
    "    p,l,u = lu(A)                         #Faz a decomposicao LU dela\n",
    "    delj,deli = [],[]\n",
    "    \n",
    "    sup_indices = np.triu_indices(n)      #Retorna uma lista com os 'i's e outra lista com os 'j's da parte superior\n",
    "    \n",
    "    for i,j in zip(sup_indices[0],sup_indices[1]):\n",
    "        if i!=j and u[i][j]==0:       #Percorre a parte superior da matriz U e checa aonde existe 0 \n",
    "            deli.append(i)           #Lista as linhas onde existe o 0\n",
    "            delj.append(j)           #Lista as colunas onde existe 0 pra deleta-las\n",
    "               \n",
    "    for i,j in it.product(deli,delj):\n",
    "        A=np.delete(A,j,axis=1)           #Deleta as colunas listadas.\n",
    "        e0=np.eye(m)[i]\n",
    "        A=np.insert(A, j, e0, axis=1)     #Coloca o vetor ei(coluna i da identidade) no lugar do vetor que deixava LD\n",
    "    \n",
    "    return A\n",
    "\n"
   ]
  },
  {
   "cell_type": "code",
   "execution_count": 5,
   "metadata": {},
   "outputs": [],
   "source": [
    "def gram_schmidt(A):\n",
    "    # Criar matriz Q\n",
    "    Q = np.zeros(A.shape)\n",
    "    # Atualização dos vetores/colunas de    \n",
    "    for i in range(A.shape[1]):\n",
    "        # Vetor i de Q recebe o vetor i de A\n",
    "        Q[:, i] = A[:, i]\n",
    "        # Somatório das projeções dos vetores de A em Q\n",
    "        for j in range(i):\n",
    "            # formula para compor o q chapéu\n",
    "            Q[:, i] -= Q[:, j].T @ A[:, i] * Q[:, j]\n",
    "        # Normalização do vetor q\n",
    "        #Q[:, i] /= np.linalg.norm(Q[:, i])\n",
    "        # arredondamento, se divisao for muito pequena, aproximamos a 1, para reduzir erro numérico\n",
    "        Q[:, i] /= np.linalg.norm(Q[:, i]) < 1e-8 and 1 or np.linalg.norm(Q[:, i])\n",
    "        \n",
    "    R = Q.T @ A\n",
    "    return Q,R"
   ]
  },
  {
   "cell_type": "code",
   "execution_count": 165,
   "metadata": {
    "scrolled": true
   },
   "outputs": [
    {
     "name": "stdout",
     "output_type": "stream",
     "text": [
      "Matriz A:\n",
      "[[3 4 4 0 0]\n",
      " [4 1 2 1 4]\n",
      " [1 2 3 0 4]\n",
      " [3 1 0 0 2]\n",
      " [2 3 0 0 1]\n",
      " [3 1 4 0 0]\n",
      " [0 4 3 0 1]]\n",
      "\n",
      "Matriz R:\n",
      "[[ 6.9282e+00  4.3301e+00  5.0518e+00  5.7740e-01  4.0415e+00]\n",
      " [ 0.0000e+00  5.4083e+00  3.3513e+00 -2.7740e-01  6.4720e-01]\n",
      " [-0.0000e+00 -0.0000e+00  4.1531e+00  3.1000e-03  9.9800e-02]\n",
      " [-0.0000e+00 -0.0000e+00  0.0000e+00  7.6790e-01  2.4036e+00]\n",
      " [-0.0000e+00 -0.0000e+00 -0.0000e+00  0.0000e+00  3.9320e+00]]\n",
      "\n",
      "Matriz Q:\n",
      "[[ 0.433   0.3929  0.1194 -0.1841 -0.4002]\n",
      " [ 0.5774 -0.2774  0.0031  0.7679  0.    ]\n",
      " [ 0.1443  0.2542  0.3416 -0.0181  0.8295]\n",
      " [ 0.433  -0.1618 -0.3962 -0.3824  0.334 ]\n",
      " [ 0.2887  0.3236 -0.6123 -0.0977 -0.0204]\n",
      " [ 0.433  -0.1618  0.567  -0.3863 -0.1967]\n",
      " [ 0.      0.7396  0.1255  0.2666 -0.0336]]\n",
      "\n",
      "Q x R:\n",
      "[[ 3.e+00  4.e+00  4.e+00  0.e+00  0.e+00]\n",
      " [ 4.e+00  1.e+00  2.e+00  1.e+00  4.e+00]\n",
      " [ 1.e+00  2.e+00  3.e+00 -0.e+00  4.e+00]\n",
      " [ 3.e+00  1.e+00 -0.e+00  0.e+00  2.e+00]\n",
      " [ 2.e+00  3.e+00 -0.e+00 -0.e+00  1.e+00]\n",
      " [ 3.e+00  1.e+00  4.e+00  1.e-04  0.e+00]\n",
      " [ 0.e+00  4.e+00  3.e+00 -0.e+00  1.e+00]]\n",
      "\n",
      "Matriz A = Q x R??\n",
      " [[ True  True  True  True  True]\n",
      " [ True  True  True  True  True]\n",
      " [ True  True  True  True  True]\n",
      " [ True  True  True  True  True]\n",
      " [ True  True  True  True  True]\n",
      " [ True  True  True  True  True]\n",
      " [ True  True  True  True  True]]\n"
     ]
    },
    {
     "data": {
      "text/plain": [
       "<matplotlib.lines.Line2D at 0x1c1fd7e5f28>"
      ]
     },
     "execution_count": 165,
     "metadata": {},
     "output_type": "execute_result"
    },
    {
     "data": {
      "image/png": "[encoded data removed]",
      "text/plain": [
       "<Figure size 432x288 with 1 Axes>"
      ]
     },
     "metadata": {},
     "output_type": "display_data"
    }
   ],
   "source": [
    "m, n = 7,5\n",
    "\n",
    "A = matrizLI(m,n)\n",
    "Q,R = gram_schmidt(A)\n",
    "R = R.round(4)\n",
    "\n",
    "print(\"Matriz A:\\n{}\\n\\nMatriz R:\\n{}\\n\\nMatriz Q:\\n{}\\n\\nQ x R:\\n{}\".format(A, R, Q.round(4), (Q@R).round(4)))\n",
    "print(\"\\nMatriz A = Q x R??\\n\", (A.round(3)==(Q@R).round(3)))\n",
    "\n",
    "plt.spy(R,marker='o',c='b')"
   ]
  },
  {
   "cell_type": "markdown",
   "metadata": {},
   "source": [
    "# Rotação de Givens\n",
    "   A decomposição $QR$ também pode ser feita usando Rotação de Givens, onde cada rotação zera um elemento da subdiagonal da matriz $A$, formando uma matriz $R$, e a matriz $Q$ ortogonal formada pela multiplicação de todas as matrizes $G$.\n",
    "   \n",
    "   Seja $A$ \n",
    "   $$\\begin{bmatrix}\n",
    "       12 & -51 & 4\\\\\n",
    "       6 & 167 & -68\\\\\n",
    "       -4 & 24 & -41 \n",
    "      \\end{bmatrix}$$\n",
    "   Vamos zerar o elemento mais a esquerda e abaixo $a_{31}$ = 4, isso é feito usando o metodo de rotação de givens e vamos chamar de $G_1$ primeiro o vetor $\\begin{bmatrix}\n",
    "       12 & -4\n",
    "      \\end{bmatrix}$ será rotacionado para que aponte para a mesma direção do eixo $x$, este vetor forma um ângulo$\\theta$= $\\arctan(4/12)$ deste modo é criada a $G_1$ $$\\begin{bmatrix}\n",
    "       cos(\\theta) & 0 & -sen(\\theta)\\\\\n",
    "       0 & 1 & 0\\\\\n",
    "       sen(\\theta) & 0 & cos(\\theta) \n",
    "      \\end{bmatrix}$$ $G_1A$ $$\\begin{bmatrix}0.94868 & 0 & -0.31622\\\\0 & 1 & 0\\\\0.31622 & 0 & 0.94868\\end{bmatrix}\\begin{bmatrix}\n",
    "       12 & -51 & 4\\\\\n",
    "       6 & 167 & -68\\\\\n",
    "       -4 & 24 & -41 \n",
    "      \\end{bmatrix}$$      \n",
    "      $$G_1A=\\begin{bmatrix}\n",
    "       12.64911 & -55.97231 & 16.76007\\\\\n",
    "       6 & 167 & -68\\\\\n",
    "       0 & 6.64078 & -37.6311\\end{bmatrix}$$\n",
    "   \n",
    "   \n",
    "   podemos obter de forma analoga matrizes $G_2$ e $G_3$ para zerar os elementos $a_{21}$ e $a_{32}$, formando assim uma matriz triangular $R$, e a matriz $Q^T$=$G_3G_2G_1$.\n",
    "      \n",
    "      "
   ]
  },
  {
   "cell_type": "code",
   "execution_count": 10,
   "metadata": {},
   "outputs": [],
   "source": [
    "def entradas(a,b):\n",
    "    # Calcula seno e coseno para entradas da matriz de rotação.\n",
    "    hip = math.hypot(a,b)\n",
    "    cos = a/hip\n",
    "    sen = -b/hip\n",
    "    return (cos,sen)"
   ]
  },
  {
   "cell_type": "code",
   "execution_count": 85,
   "metadata": {},
   "outputs": [],
   "source": [
    "def rotacao_givens(A):\n",
    "    qtd_linhas, qtd_colunas = A.shape\n",
    "                                   \n",
    "    Q = np.identity(A.shape[0])             # Inicializando a matriz ortogonal Q.\n",
    "    R = np.copy(A)                          # Inicializando a matriz triangular superior R.\n",
    "    \n",
    "    # As iterações serão feitas sobre a matriz triangular inferior\n",
    "    linhas, colunas = np.tril_indices(qtd_linhas, -1, qtd_colunas)\n",
    "    #i = 0\n",
    "    for (linha, coluna) in zip(linhas, colunas):\n",
    "        \n",
    "        # As rotações são feitas para os valores da matriz triangular\n",
    "        # inferior que são diferentes de zero.\n",
    "        if(R[linha,coluna] != 0):\n",
    "            cos, sen = entradas(R[coluna, coluna], R[linha,coluna])\n",
    "            G = np.identity(qtd_linhas)\n",
    "            G[coluna, coluna] = cos\n",
    "            G[linha, linha] = cos\n",
    "            G[linha, coluna] = sen\n",
    "            G[coluna, linha] = -sen\n",
    "            R = np.dot(G, R)\n",
    "            Q = np.dot(Q,G.T)\n",
    "        #i = i+1\n",
    "        #print(\"Matriz Q{}:\\n{}\\n\\nMatriz R{}:\\n{}\\n\".format(i, Q.round(5), i, R.round(5)))\n",
    "    return (Q,R)"
   ]
  },
  {
   "cell_type": "code",
   "execution_count": 167,
   "metadata": {
    "scrolled": true
   },
   "outputs": [
    {
     "name": "stdout",
     "output_type": "stream",
     "text": [
      "Matriz A:\n",
      "[[1 4 1 3 1]\n",
      " [1 1 3 3 2]\n",
      " [4 4 0 0 1]\n",
      " [4 4 4 2 3]\n",
      " [2 4 1 2 1]\n",
      " [1 2 2 2 3]\n",
      " [1 0 3 1 2]]\n",
      "\n",
      "Matriz R:\n",
      "[[ 6.32456e+00  7.43135e+00  4.26907e+00  3.32039e+00  4.11096e+00]\n",
      " [ 0.00000e+00  3.71147e+00 -1.95340e-01  2.78192e+00  3.90680e-01]\n",
      " [ 0.00000e+00  0.00000e+00  4.66228e+00  3.29633e+00  3.11571e+00]\n",
      " [-0.00000e+00 -0.00000e+00 -0.00000e+00  1.17052e+00 -6.21000e-03]\n",
      " [-0.00000e+00  0.00000e+00  0.00000e+00 -0.00000e+00  1.49655e+00]\n",
      " [ 0.00000e+00 -0.00000e+00 -0.00000e+00 -0.00000e+00 -0.00000e+00]\n",
      " [-0.00000e+00  0.00000e+00 -0.00000e+00 -0.00000e+00  0.00000e+00]]\n",
      "\n",
      "Matriz Q:\n",
      "[[ 0.1581  0.7612  0.1016  0.0193 -0.1763 -0.5546  0.2152]\n",
      " [ 0.1581 -0.0472  0.4967  0.8277 -0.1163  0.0812 -0.1444]\n",
      " [ 0.6325 -0.1886 -0.587   0.3073  0.2035 -0.142   0.2526]\n",
      " [ 0.6325 -0.1886  0.2709 -0.4002 -0.2492 -0.1556 -0.4946]\n",
      " [ 0.3162  0.4446 -0.0564 -0.086  -0.1994  0.7981  0.123 ]\n",
      " [ 0.1581  0.2223  0.2935 -0.0947  0.9008  0.0676 -0.1203]\n",
      " [ 0.1581 -0.3166  0.4854 -0.2088 -0.0268  0.      0.7713]]\n",
      "\n",
      "Inversa de Q:\n",
      "[[ 0.1581  0.1581  0.6325  0.6325  0.3162  0.1581  0.1581]\n",
      " [ 0.7612 -0.0472 -0.1886 -0.1886  0.4446  0.2223 -0.3166]\n",
      " [ 0.1016  0.4967 -0.587   0.2709 -0.0564  0.2935  0.4854]\n",
      " [ 0.0193  0.8277  0.3073 -0.4002 -0.086  -0.0947 -0.2088]\n",
      " [-0.1763 -0.1163  0.2035 -0.2492 -0.1994  0.9008 -0.0268]\n",
      " [-0.5546  0.0812 -0.142  -0.1556  0.7981  0.0676  0.    ]\n",
      " [ 0.2152 -0.1444  0.2526 -0.4946  0.123  -0.1203  0.7713]]\n",
      "\n",
      "Q x R:\n",
      "[[ 1.  4.  1.  3.  1.]\n",
      " [ 1.  1.  3.  3.  2.]\n",
      " [ 4.  4. -0. -0.  1.]\n",
      " [ 4.  4.  4.  2.  3.]\n",
      " [ 2.  4.  1.  2.  1.]\n",
      " [ 1.  2.  2.  2.  3.]\n",
      " [ 1. -0.  3.  1.  2.]]\n",
      "\n",
      "Matriz A = Q x R??\n",
      " [[ True  True  True  True  True]\n",
      " [ True  True  True  True  True]\n",
      " [ True  True  True  True  True]\n",
      " [ True  True  True  True  True]\n",
      " [ True  True  True  True  True]\n",
      " [ True  True  True  True  True]\n",
      " [ True  True  True  True  True]]\n"
     ]
    },
    {
     "data": {
      "text/plain": [
       "<matplotlib.lines.Line2D at 0x1c1fc7db9e8>"
      ]
     },
     "execution_count": 167,
     "metadata": {},
     "output_type": "execute_result"
    },
    {
     "data": {
      "image/png": "[encoded data removed]",
      "text/plain": [
       "<Figure size 432x288 with 1 Axes>"
      ]
     },
     "metadata": {},
     "output_type": "display_data"
    }
   ],
   "source": [
    "m, n = 7, 5\n",
    "A = np.random.randint(0,5,(m,n))\n",
    "\n",
    "Q, R = rotacao_givens(A)\n",
    "R = R.round(5)\n",
    "\n",
    "print(\"Matriz A:\\n{}\\n\\nMatriz R:\\n{}\\n\\nMatriz Q:\\n{}\\n\\nInversa de Q:\\n{}\\n\\nQ x R:\\n{}\".format(A, R, Q.round(4), np.linalg.inv(Q).round(4), (Q@R).round(4)))\n",
    "\n",
    "print(\"\\nMatriz A = Q x R??\\n\", (A.round(4)==(Q@R).round(4)))\n",
    "\n",
    "plt.spy(R,marker='o',c='b')"
   ]
  },
  {
   "cell_type": "markdown",
   "metadata": {},
   "source": [
    "# Householder\n",
    "É a abordagem mais comum para a decomposição do $QR$ uma vez que utilizar Gram-Schmidt não é recomendado, pois pode levar ao cancelamento que causa imprecisão, o que pode resultar em uma matriz $Q$ não ortogonal. As reflexões de Householder são outro método de transformação ortogonal que transforma um vetor x em um vetor unitário y paralelo a x. A matriz de reflexão de Household com vetor normal v assume a forma:$$H = I - 2vv^T$$\n",
    "\n",
    "como\n",
    "$$u = \\frac{v}{||v||}$$\n",
    "\n",
    "temos a seguinte forma:\n",
    "$$H(x) = I - 2vv^T = I - 2 \\frac{uu^T}{u^Tu}$$\n",
    "\n",
    "Este método de decomposição funciona encontrando matrizes $H$ apropriadas e multiplicando-as pela esquerda a matriz original $A$, para construir a matriz triangular superior $R$. Como vimos anteriormente, diferentemente do procedimento de Gram-Schmidt, a abordagem de reflexão de Household não forma explícita a matriz $Q$. No entanto, a matriz $Q$ pode ser encontrada utilizando o produto escalar de cada matriz Household formada sucessivamente.$$Q = H_1 H_2 \\cdots H_{m-2}H_{m-1}$$\n",
    "\n",
    "seja $A$ a seguinte matriz \n",
    "$$A = \\begin{bmatrix}\n",
    "  2 & - 2 & 18 \\\\\n",
    "  2 & 1 & 0 \\\\\n",
    "  1 & 2 & 0\n",
    "\\end{bmatrix}$$\n",
    "\n",
    "\n",
    "$$v_1 = a_1 + sign(a_{11})||a_1||e_1$$\n",
    "\n",
    "$$v_1 = \\begin{bmatrix}2 \\\\ 2 \\\\ 1 \\end{bmatrix} + \\sqrt{\\sum^m_{k=1}{a_1}^2} \\begin{bmatrix}1 \\\\ 0 \\\\ 0 \\end{bmatrix} = \\begin{bmatrix} 5 \\\\ 2 \\\\ 1 \\end{bmatrix}$$\n",
    "\n",
    "A matriz $H_1$ $$H_1 = \\begin{bmatrix} 1 & 0 & 0 \\\\ 0 & 1 & 0 \\\\ 0 & 0 & 1 \\end{bmatrix} - 2 \\frac{\\begin{bmatrix} 2 & 2 & 1 \\end{bmatrix}\\begin{bmatrix} 2 \\\\ 2 \\\\ 1 \\end{bmatrix}}{\\begin{bmatrix} 2 \\\\ 2 \\\\ 1 \\end{bmatrix}\\begin{bmatrix} 2 & 2 & 1 \\end{bmatrix}} =$$\n",
    "$$H_1 = \\begin{bmatrix} -\\frac{2}{3} & -\\frac{2}{3} & -\\frac{1}{3} \\\\ -\\frac{2}{3} & 0.7333 & -0.1333 \\\\ -\\frac{1}{3} & -0.1333 & 0.9333 \\end{bmatrix}$$\n",
    "\n",
    "com a matriz $H_1$ podemos obter $R$ fazendo $H_1A$\n",
    "\n",
    "$$H_1 A = \\begin{bmatrix} -\\frac{2}{3} & -\\frac{2}{3} & -\\frac{1}{3} \\\\ -\\frac{2}{3} & 0.7333 & -0.1333 \\\\ -\\frac{1}{3} & -0.1333 & 0.9333 \\end{bmatrix} \\begin{bmatrix} 2 & - 2 & 18 \\\\ 2 & 1 & 0 \\\\ 1 & 2 & 0 \\end{bmatrix}$$\n",
    "$$H_1 A = \\begin{bmatrix} -3 & 0 & -12 \\\\ 0 & 1.8 & 12 \\\\ 0 & 2.4 & -6 \\end{bmatrix}$$\n",
    "\n",
    "Na proxima iteração $A$ é substituida por $H_1A$ considere agora a submatriz\n",
    "\n",
    "$$A^{(1)} = \\begin{bmatrix} 1.8 & 12 \\\\ 2.4 & -6 \\end{bmatrix}$$\n",
    "\n",
    "$v_2$ é dado por $$\\begin{bmatrix} 1.8 \\\\ 2.4 \\end{bmatrix} + \\sqrt{\\sum^m_{j=1} a_2^2} \\begin{bmatrix} 1 \\\\ 0 \\end{bmatrix} = \\begin{bmatrix} 4.8 \\\\ 2.4 \\end{bmatrix}$$\n",
    "\n",
    "$H_2$\n",
    "\n",
    "$$H_2 = \\begin{bmatrix} 1 & 0 \\\\ 0 & 1 \\end{bmatrix} - 2 \\frac{\\begin{bmatrix} 4.8 & 2.4 \\end{bmatrix} \\begin{bmatrix} 4.8 \\\\ 2.4 \\end{bmatrix}}{\\begin{bmatrix} 4.8 \\\\ 2.4 \\end{bmatrix} \\begin{bmatrix} 4.8 & 2.4 \\end{bmatrix}}$$\n",
    "\n",
    "$$H_2 = \\begin{bmatrix} 1 & 0 & 0 \\\\ 0 & -0.6 & -0.8 \\\\ 0 & -0.8 & 0.6 \\end{bmatrix}$$\n",
    "\n",
    "$H_2A$ $$\\begin{bmatrix} 1 & 0 & 0 \\\\ 0 & -0.6 & -0.8 \\\\ 0 & -0.8 & 0.6 \\end{bmatrix} \\begin{bmatrix} -3 & 0 & -12 \\\\ 0 & 1.8 & 12 \\\\ 0 & 2.4 & -6 \\end{bmatrix}$$\n",
    "\n",
    "$$H_2 A = \\begin{bmatrix} -3 & 0 & -12 \\\\ 0 & -3 & 12 \\\\ 0 & 0 & 6 \\end{bmatrix}$$\n",
    "\n",
    "$v_3$ é dado por $$\\begin{bmatrix} 6 \\end{bmatrix} -  \\sqrt{\\sum^m_{j=1} a_3^2} \\begin{bmatrix} 1 \\end{bmatrix} = 12$$\n",
    "\n",
    "A ultima matriz $H$ a $H_3$ $$H_3 = \\begin{bmatrix} 1 \\end{bmatrix} - 2 \\frac{\\begin{bmatrix} 12 \\end{bmatrix}\\begin{bmatrix} 12 \\end{bmatrix}}{\\begin{bmatrix} 12 \\end{bmatrix}\\begin{bmatrix} 12 \\end{bmatrix}} = \\begin{bmatrix}1 & 0 & 0 \\\\ 0 & 1 & 0 \\\\ 0 & 0 & -1 \\end{bmatrix}$$\n",
    "\n",
    "$$H_3 A = \\begin{bmatrix}1 & 0 & 0 \\\\ 0 & 1 & 0 \\\\ 0 & 0 & -1 \\end{bmatrix} \\begin{bmatrix} -3 & 0 & -12 \\\\ 0 & -3 & 12 \\\\ 0 & 0 & 6 \\end{bmatrix}$$\n",
    "\n",
    "$$H_3 A = R = \\begin{bmatrix} -3 & 0 & -12 \\\\ 0 & -3 & 12 \\\\ 0 & 0 & -6 \\end{bmatrix}$$\n",
    "\n",
    "Como dito anteriormente a matriz $Q$ é encontrada\n",
    "$$H_1 H_2 H_3 = Q$$ $$Q = \\begin{bmatrix} -\\frac{2}{3} & -\\frac{2}{3} & -\\frac{1}{3} \\\\ -\\frac{2}{3} & 0.7333 & -0.1333 \\\\ -\\frac{1}{3} & -0.1333 & 0.9333 \\end{bmatrix} \\begin{bmatrix} 1 & 0 & 0 \\\\ 0 & -0.6 & -0.8 \\\\ 0 & -0.8 & 0.6 \\end{bmatrix} \\begin{bmatrix}1 & 0 & 0 \\\\ 0 & 1 & 0 \\\\ 0 & 0 & -1 \\end{bmatrix}$$ $$Q = \\begin{bmatrix} -\\frac{2}{3} & \\frac{2}{3} & -\\frac{1}{3} \\\\ -\\frac{2}{3} & -\\frac{1}{3} & \\frac{2}{3} \\\\ -\\frac{1}{3} & -\\frac{2}{3} & -\\frac{2}{3} \\end{bmatrix}$$\n",
    "\n",
    "O resultado obtido é o mesmo que obtido pelo Gram-Schmidt \n",
    "$$QR = \\begin{bmatrix} -\\frac{2}{3} & \\frac{2}{3} & -\\frac{1}{3} \\\\ -\\frac{2}{3} & -\\frac{1}{3} & \\frac{2}{3} \\\\ -\\frac{1}{3} & -\\frac{2}{3} & -\\frac{2}{3} \\end{bmatrix} \\begin{bmatrix} -3 & 0 & -12 \\\\ 0 & -3 & 12 \\\\ 0 & 0 & -6 \\end{bmatrix}$$\n"
   ]
  },
  {
   "cell_type": "code",
   "execution_count": 168,
   "metadata": {},
   "outputs": [],
   "source": [
    "def matriz_householder(v):\n",
    "    #Gera a matriz de refleccao para o vetor v\n",
    "    tam_v = v.shape[0]\n",
    "        \n",
    "    e1 = np.eye(tam_v)[0]                        #Primeira coluna da identidade                    \n",
    "    vetor = np.linalg.norm(v) * e1               #Vetor [||v||,0....]\n",
    "    \n",
    "    if v[0] < 0:                                 #Se o primeiro elemento for < 0,troca o sinal\n",
    "        vetor = - vetor\n",
    "    u = v + vetor\n",
    "    \n",
    "    H = np.eye(tam_v) -  ((2 * np.outer(u,u)) / np.dot(u,np.transpose(u)))      #Gera H\n",
    "    \n",
    "    return H"
   ]
  },
  {
   "cell_type": "code",
   "execution_count": 169,
   "metadata": {},
   "outputs": [],
   "source": [
    "def QR_householder(A):\n",
    "    m,n = A.shape                                 \n",
    "    Q = np.eye(m)\n",
    "    R = A\n",
    "    menor_dim = min(m,n)\n",
    "\n",
    "    for i in range(menor_dim):\n",
    "        v = R[i:, i]                               #linha it pra frente e coluna it\n",
    "        Hh = matriz_householder(v)                 #Recebe a matriz de refleccao para o vetor v\n",
    "\n",
    "        H = np.eye(m)                              #Identidade\n",
    "        H[i:, i:] = Hh                             #Preenche com a matriz de refleccao as linhas e colunas i pra frente\n",
    "\n",
    "        R = np.dot(H, R)                           #Gera R\n",
    "        Q = np.dot(Q, H)                           #Gera Q\n",
    "        \n",
    "    return Q,R"
   ]
  },
  {
   "cell_type": "code",
   "execution_count": 170,
   "metadata": {},
   "outputs": [
    {
     "name": "stdout",
     "output_type": "stream",
     "text": [
      "Matriz A:\n",
      "[[2 4 3 0 2]\n",
      " [3 4 0 4 0]\n",
      " [4 3 1 4 4]\n",
      " [0 2 0 2 2]\n",
      " [2 2 4 1 2]\n",
      " [4 4 4 4 2]\n",
      " [1 3 0 4 0]]\n",
      "\n",
      "Matriz R:\n",
      "[[-7.07107e+00 -7.77817e+00 -4.80833e+00 -7.07107e+00 -4.52548e+00]\n",
      " [ 0.00000e+00 -3.67423e+00 -4.35460e-01 -1.90516e+00 -2.17730e-01]\n",
      " [-0.00000e+00  0.00000e+00  4.32324e+00 -2.50498e+00  9.58820e-01]\n",
      " [-0.00000e+00 -0.00000e+00 -0.00000e+00 -3.01586e+00  4.31000e-03]\n",
      " [ 0.00000e+00  0.00000e+00  0.00000e+00 -0.00000e+00  3.24858e+00]\n",
      " [ 0.00000e+00  0.00000e+00  0.00000e+00 -0.00000e+00 -0.00000e+00]\n",
      " [ 0.00000e+00  0.00000e+00 -0.00000e+00 -0.00000e+00 -0.00000e+00]]\n",
      "\n",
      "Matriz Q:\n",
      "[[-0.2828 -0.4899  0.33    0.6985  0.0905  0.0831  0.2609]\n",
      " [-0.4243 -0.1905 -0.4911  0.1966 -0.4591 -0.2264 -0.4918]\n",
      " [-0.5657  0.381  -0.3595  0.0579  0.5748 -0.1185  0.2404]\n",
      " [ 0.     -0.5443 -0.0548 -0.2738  0.5957  0.1865 -0.4859]\n",
      " [-0.2828  0.0544  0.6161 -0.2146  0.0437 -0.6667 -0.212 ]\n",
      " [-0.5657  0.1089  0.307  -0.3238 -0.2553  0.634  -0.0438]\n",
      " [-0.1414 -0.5171 -0.2094 -0.4942 -0.1692 -0.2157  0.5911]]\n",
      "\n",
      "Inversa de Q:\n",
      "[[-0.2828 -0.4243 -0.5657 -0.     -0.2828 -0.5657 -0.1414]\n",
      " [-0.4899 -0.1905  0.381  -0.5443  0.0544  0.1089 -0.5171]\n",
      " [ 0.33   -0.4911 -0.3595 -0.0548  0.6161  0.307  -0.2094]\n",
      " [ 0.6985  0.1966  0.0579 -0.2738 -0.2146 -0.3238 -0.4942]\n",
      " [ 0.0905 -0.4591  0.5748  0.5957  0.0437 -0.2553 -0.1692]\n",
      " [ 0.0831 -0.2264 -0.1185  0.1865 -0.6667  0.634  -0.2157]\n",
      " [ 0.2609 -0.4918  0.2404 -0.4859 -0.212  -0.0438  0.5911]]\n",
      "\n",
      "Q x R:\n",
      "[[ 2.  4.  3.  0.  2.]\n",
      " [ 3.  4. -0.  4. -0.]\n",
      " [ 4.  3.  1.  4.  4.]\n",
      " [ 0.  2. -0.  2.  2.]\n",
      " [ 2.  2.  4.  1.  2.]\n",
      " [ 4.  4.  4.  4.  2.]\n",
      " [ 1.  3. -0.  4. -0.]]\n",
      "\n",
      "Matriz A = Q x R??\n",
      " [[ True  True  True  True  True]\n",
      " [ True  True  True  True  True]\n",
      " [ True  True  True  True  True]\n",
      " [ True  True  True  True  True]\n",
      " [ True  True  True  True  True]\n",
      " [ True  True  True  True  True]\n",
      " [ True  True  True  True  True]]\n"
     ]
    },
    {
     "data": {
      "text/plain": [
       "<matplotlib.lines.Line2D at 0x1c1fc29b0b8>"
      ]
     },
     "execution_count": 170,
     "metadata": {},
     "output_type": "execute_result"
    },
    {
     "data": {
      "image/png": "[encoded data removed]",
      "text/plain": [
       "<Figure size 432x288 with 1 Axes>"
      ]
     },
     "metadata": {},
     "output_type": "display_data"
    }
   ],
   "source": [
    "m,n = 7,5\n",
    "A = np.random.randint(0,5,(m,n))\n",
    "\n",
    "Q,R = QR_householder(A)\n",
    "\n",
    "R = R.round(5)\n",
    "\n",
    "print(\"Matriz A:\\n{}\\n\\nMatriz R:\\n{}\\n\\nMatriz Q:\\n{}\\n\\nInversa de Q:\\n{}\\n\\nQ x R:\\n{}\".format(A, R, Q.round(4), np.linalg.inv(Q).round(4), (Q@R).round(4)))\n",
    "print(\"\\nMatriz A = Q x R??\\n\", (A.round(4)==(Q@R).round(4)))\n",
    "\n",
    "plt.spy(R,marker='o',c='b')"
   ]
  },
  {
   "cell_type": "markdown",
   "metadata": {},
   "source": [
    "# Gráficos"
   ]
  },
  {
   "cell_type": "code",
   "execution_count": 173,
   "metadata": {},
   "outputs": [],
   "source": [
    "def rodar(f,dim):\n",
    "    #f: Método a ser rodado\n",
    "    #dim: lista com as dimensoes das matrizes\n",
    "    \n",
    "    tempos = []\n",
    "    temposGeracao = []\n",
    "    flag = False\n",
    "    \n",
    "    if f.__name__ == 'gram_schmidt': flag = True\n",
    "        \n",
    "    for i in dim:\n",
    "        tempo = []\n",
    "        print(\"Dimensão: {}\".format(i))\n",
    "        if flag:\n",
    "            t0g = time.time()\n",
    "            A = matrizLI(i,i)\n",
    "            tfg = time.time()\n",
    "            temposGeracao.append(tfg-t0g)\n",
    "        else:\n",
    "            A = np.random.randint(0,5,(i,i))\n",
    "        for _ in range(3):\n",
    "            t0 = time.time()\n",
    "            f(A)\n",
    "            tf = time.time()\n",
    "            tempo.append(tf-t0)\n",
    "        tempos.append(tempo)\n",
    "        \n",
    "    tempos = [np.mean(i) for i in tempos]\n",
    "    #print('Tempos de Geracao da matriz LI=',temposGeracao)\n",
    "    return tempos"
   ]
  },
  {
   "cell_type": "code",
   "execution_count": 46,
   "metadata": {},
   "outputs": [],
   "source": [
    "def plotar(holder, schmidt, givens, dim,log=None):\n",
    "    #dim: lista com as dimensoes das matrizes\n",
    "    \n",
    "    plt.figure(figsize=(14,12))\n",
    "    plt.title('Decomposição QR',size='x-large')\n",
    "    plt.xlabel('Dimensões',size='x-large')\n",
    "    plt.ylabel('Segundos',size='x-large')\n",
    "    if log:\n",
    "        plt.yscale('log')\n",
    "        plt.xscale('log')\n",
    "    plt.plot(dim,holder,marker='v',ms=13.0,label='Householder')\n",
    "    plt.plot(dim,schmidt,marker='^',ms=13.0,label='Gram-Schmidt')\n",
    "    plt.plot(dim,givens,marker='o',ms=13.0,label='Givens')\n",
    "    plt.legend(title='Método:',title_fontsize='xx-large',fontsize='x-large')\n",
    "    plt.show()\n",
    "    "
   ]
  },
  {
   "cell_type": "markdown",
   "metadata": {},
   "source": [
    "### Só rode essa celula abaixo se quiser esperar muito tempo"
   ]
  },
  {
   "cell_type": "code",
   "execution_count": 4,
   "metadata": {},
   "outputs": [],
   "source": [
    "dim = [50, 70, 100, 150, 200, 300]\n",
    "temposHolder = rodar(QR_householder,dim)\n",
    "temposSchmidt = rodar(gram_schmidt,dim)\n",
    "temposGivens = rodar(rotacao_givens,dim)"
   ]
  },
  {
   "cell_type": "code",
   "execution_count": 176,
   "metadata": {},
   "outputs": [
    {
     "data": {
      "text/plain": [
       "[0.005318959554036458,\n",
       " 0.006981054941813151,\n",
       " 0.012311776479085287,\n",
       " 0.040215253829956055,\n",
       " 0.08510629336039226,\n",
       " 0.40923913319905597]"
      ]
     },
     "execution_count": 176,
     "metadata": {},
     "output_type": "execute_result"
    }
   ],
   "source": [
    "temposHolder"
   ]
  },
  {
   "cell_type": "code",
   "execution_count": 177,
   "metadata": {},
   "outputs": [
    {
     "data": {
      "text/plain": [
       "[0.008976221084594727,\n",
       " 0.019946575164794922,\n",
       " 0.03757794698079427,\n",
       " 0.0890950361887614,\n",
       " 0.15392168362935385,\n",
       " 0.3726704915364583]"
      ]
     },
     "execution_count": 177,
     "metadata": {},
     "output_type": "execute_result"
    }
   ],
   "source": [
    "temposSchmidt"
   ]
  },
  {
   "cell_type": "code",
   "execution_count": 178,
   "metadata": {},
   "outputs": [
    {
     "data": {
      "text/plain": [
       "[0.03224714597066244,\n",
       " 0.09640900293986003,\n",
       " 0.3370986779530843,\n",
       " 2.012287219365438,\n",
       " 7.407861550649007,\n",
       " 50.75064746538798]"
      ]
     },
     "execution_count": 178,
     "metadata": {},
     "output_type": "execute_result"
    }
   ],
   "source": [
    "temposGivens"
   ]
  },
  {
   "cell_type": "markdown",
   "metadata": {},
   "source": [
    "### Rode essa célula abaixo pra pegar os tempos já prontos"
   ]
  },
  {
   "cell_type": "code",
   "execution_count": 11,
   "metadata": {},
   "outputs": [],
   "source": [
    "temposHolder= [0.005318959554036458,0.006981054941813151,0.012311776479085287,0.040215253829956055,0.08510629336039226,0.40923913319905597]\n",
    "temposSchmidt = [0.008976221084594727,0.019946575164794922,0.03757794698079427,0.0890950361887614,0.15392168362935385,0.3726704915364583]\n",
    "temposGivens = [0.03224714597066244,0.09640900293986003,0.3370986779530843,2.012287219365438,7.407861550649007,50.75064746538798]"
   ]
  },
  {
   "cell_type": "code",
   "execution_count": 43,
   "metadata": {},
   "outputs": [
    {
     "data": {
      "image/png": "[encoded data removed]",
      "text/plain": [
       "<Figure size 1008x864 with 1 Axes>"
      ]
     },
     "metadata": {},
     "output_type": "display_data"
    }
   ],
   "source": [
    "plotar(temposHolder,temposSchmidt,temposGivens,dim,True)"
   ]
  },
  {
   "cell_type": "markdown",
   "metadata": {},
   "source": [
    "# Regressão Gram-Schmidt"
   ]
  },
  {
   "cell_type": "markdown",
   "metadata": {},
   "source": [
    "### REGRESSÃO SEM LOG-SCALE "
   ]
  },
  {
   "cell_type": "code",
   "execution_count": 9,
   "metadata": {},
   "outputs": [
    {
     "data": {
      "text/plain": [
       "array([[  1,  50],\n",
       "       [  1,  70],\n",
       "       [  1, 100],\n",
       "       [  1, 150],\n",
       "       [  1, 200],\n",
       "       [  1, 300]], dtype=int32)"
      ]
     },
     "execution_count": 9,
     "metadata": {},
     "output_type": "execute_result"
    }
   ],
   "source": [
    "x = np.array(dim)\n",
    "A = x[:, np.newaxis]**[0,1]               #Criou uma nova coluna só de 1\n",
    "A"
   ]
  },
  {
   "cell_type": "code",
   "execution_count": 10,
   "metadata": {},
   "outputs": [
    {
     "data": {
      "text/plain": [
       "array([-0.09389346,  0.00143167])"
      ]
     },
     "execution_count": 10,
     "metadata": {},
     "output_type": "execute_result"
    }
   ],
   "source": [
    "#Achar y = a*x+b\n",
    "y = np.array(temposSchmidt)\n",
    "p, res, rnk, s = lstsq(A,y)\n",
    "p"
   ]
  },
  {
   "cell_type": "code",
   "execution_count": 13,
   "metadata": {
    "scrolled": true
   },
   "outputs": [
    {
     "data": {
      "image/png": "[encoded data removed]",
      "text/plain": [
       "<Figure size 864x720 with 1 Axes>"
      ]
     },
     "metadata": {
      "needs_background": "light"
     },
     "output_type": "display_data"
    }
   ],
   "source": [
    "plt.figure(figsize=(12,10))\n",
    "plt.scatter(x,y,marker= 'o', label='Dados',color='r')\n",
    "\n",
    "yy = p[0] + (p[1]*x)\n",
    "plt.plot(x, yy, label='Mínimos Quadrados, $y = ax + b$')\n",
    "plt.xlabel('x')\n",
    "plt.ylabel('y')\n",
    "plt.legend(framealpha=1, shadow=True,fontsize='x-large')\n",
    "plt.grid(alpha=0.25)\n",
    "plt.show()"
   ]
  },
  {
   "cell_type": "markdown",
   "metadata": {},
   "source": [
    "### REGRESSÃO COM LOG-SCALE"
   ]
  },
  {
   "cell_type": "code",
   "execution_count": 15,
   "metadata": {},
   "outputs": [],
   "source": [
    "logX = np.log(x)\n",
    "logY = np.log(y)"
   ]
  },
  {
   "cell_type": "code",
   "execution_count": 16,
   "metadata": {},
   "outputs": [
    {
     "data": {
      "text/plain": [
       "array([[1.        , 3.91202301],\n",
       "       [1.        , 4.24849524],\n",
       "       [1.        , 4.60517019],\n",
       "       [1.        , 5.01063529],\n",
       "       [1.        , 5.29831737],\n",
       "       [1.        , 5.70378247]])"
      ]
     },
     "execution_count": 16,
     "metadata": {},
     "output_type": "execute_result"
    }
   ],
   "source": [
    "logA = logX[:, np.newaxis]**[0,1]               #Criou uma nova coluna só de 1\n",
    "logA"
   ]
  },
  {
   "cell_type": "code",
   "execution_count": 17,
   "metadata": {},
   "outputs": [
    {
     "data": {
      "text/plain": [
       "array([-12.68756462,   2.04805353])"
      ]
     },
     "execution_count": 17,
     "metadata": {},
     "output_type": "execute_result"
    }
   ],
   "source": [
    "p, res, rnk, s = lstsq(logA,logY)\n",
    "p"
   ]
  },
  {
   "cell_type": "code",
   "execution_count": 18,
   "metadata": {},
   "outputs": [
    {
     "data": {
      "text/plain": [
       "0.008841601760461656"
      ]
     },
     "execution_count": 18,
     "metadata": {},
     "output_type": "execute_result"
    }
   ],
   "source": [
    "res"
   ]
  },
  {
   "cell_type": "code",
   "execution_count": 12,
   "metadata": {},
   "outputs": [
    {
     "ename": "NameError",
     "evalue": "name 'plt' is not defined",
     "output_type": "error",
     "traceback": [
      "\u001b[0;31m---------------------------------------------------------------------------\u001b[0m",
      "\u001b[0;31mNameError\u001b[0m                                 Traceback (most recent call last)",
      "\u001b[0;32m<ipython-input-12-11ecb03ae134>\u001b[0m in \u001b[0;36m<module>\u001b[0;34m()\u001b[0m\n\u001b[0;32m----> 1\u001b[0;31m \u001b[0mplt\u001b[0m\u001b[0;34m.\u001b[0m\u001b[0mfigure\u001b[0m\u001b[0;34m(\u001b[0m\u001b[0mfigsize\u001b[0m\u001b[0;34m=\u001b[0m\u001b[0;34m(\u001b[0m\u001b[0;36m12\u001b[0m\u001b[0;34m,\u001b[0m\u001b[0;36m10\u001b[0m\u001b[0;34m)\u001b[0m\u001b[0;34m)\u001b[0m\u001b[0;34m\u001b[0m\u001b[0;34m\u001b[0m\u001b[0m\n\u001b[0m\u001b[1;32m      2\u001b[0m \u001b[0mplt\u001b[0m\u001b[0;34m.\u001b[0m\u001b[0mscatter\u001b[0m\u001b[0;34m(\u001b[0m\u001b[0mlogX\u001b[0m\u001b[0;34m,\u001b[0m\u001b[0mlogY\u001b[0m\u001b[0;34m,\u001b[0m\u001b[0mmarker\u001b[0m\u001b[0;34m=\u001b[0m \u001b[0;34m'o'\u001b[0m\u001b[0;34m,\u001b[0m \u001b[0mlabel\u001b[0m\u001b[0;34m=\u001b[0m\u001b[0;34m'Dados'\u001b[0m\u001b[0;34m,\u001b[0m\u001b[0mcolor\u001b[0m\u001b[0;34m=\u001b[0m\u001b[0;34m'r'\u001b[0m\u001b[0;34m)\u001b[0m\u001b[0;34m\u001b[0m\u001b[0;34m\u001b[0m\u001b[0m\n\u001b[1;32m      3\u001b[0m \u001b[0;34m\u001b[0m\u001b[0m\n\u001b[1;32m      4\u001b[0m \u001b[0myy\u001b[0m \u001b[0;34m=\u001b[0m \u001b[0mp\u001b[0m\u001b[0;34m[\u001b[0m\u001b[0;36m0\u001b[0m\u001b[0;34m]\u001b[0m \u001b[0;34m+\u001b[0m \u001b[0;34m(\u001b[0m\u001b[0mp\u001b[0m\u001b[0;34m[\u001b[0m\u001b[0;36m1\u001b[0m\u001b[0;34m]\u001b[0m\u001b[0;34m*\u001b[0m\u001b[0mlogX\u001b[0m\u001b[0;34m)\u001b[0m\u001b[0;34m\u001b[0m\u001b[0;34m\u001b[0m\u001b[0m\n\u001b[1;32m      5\u001b[0m \u001b[0mplt\u001b[0m\u001b[0;34m.\u001b[0m\u001b[0mplot\u001b[0m\u001b[0;34m(\u001b[0m\u001b[0mlogX\u001b[0m\u001b[0;34m,\u001b[0m \u001b[0myy\u001b[0m\u001b[0;34m,\u001b[0m \u001b[0mlabel\u001b[0m\u001b[0;34m=\u001b[0m\u001b[0;34m'Mínimos Quadrados, $y = {} x {}$'\u001b[0m\u001b[0;34m.\u001b[0m\u001b[0mformat\u001b[0m\u001b[0;34m(\u001b[0m\u001b[0mnp\u001b[0m\u001b[0;34m.\u001b[0m\u001b[0mround\u001b[0m\u001b[0;34m(\u001b[0m\u001b[0mp\u001b[0m\u001b[0;34m[\u001b[0m\u001b[0;36m1\u001b[0m\u001b[0;34m]\u001b[0m\u001b[0;34m,\u001b[0m\u001b[0;36m5\u001b[0m\u001b[0;34m)\u001b[0m\u001b[0;34m,\u001b[0m\u001b[0mnp\u001b[0m\u001b[0;34m.\u001b[0m\u001b[0mround\u001b[0m\u001b[0;34m(\u001b[0m\u001b[0mp\u001b[0m\u001b[0;34m[\u001b[0m\u001b[0;36m0\u001b[0m\u001b[0;34m]\u001b[0m\u001b[0;34m,\u001b[0m\u001b[0;36m5\u001b[0m\u001b[0;34m)\u001b[0m\u001b[0;34m)\u001b[0m\u001b[0;34m)\u001b[0m\u001b[0;34m\u001b[0m\u001b[0;34m\u001b[0m\u001b[0m\n",
      "\u001b[0;31mNameError\u001b[0m: name 'plt' is not defined"
     ]
    }
   ],
   "source": [
    "plt.figure(figsize=(12,10))\n",
    "plt.scatter(logX,logY,marker= 'o', label='Dados',color='r')\n",
    "\n",
    "yy = p[0] + (p[1]*logX)\n",
    "plt.plot(logX, yy, label='Mínimos Quadrados, $y = {} x {}$'.format(np.round(p[1],5),np.round(p[0],5)))\n",
    "plt.xlabel('x')\n",
    "plt.ylabel('y')\n",
    "plt.legend(framealpha=0.5, shadow=False,fontsize='x-large')\n",
    "plt.grid(alpha=0.5)\n",
    "plt.show()"
   ]
  },
  {
   "cell_type": "markdown",
   "metadata": {},
   "source": [
    "### Erro quadrático médio - Gram-Schmidt"
   ]
  },
  {
   "cell_type": "code",
   "execution_count": 22,
   "metadata": {},
   "outputs": [
    {
     "data": {
      "text/plain": [
       "0.0014736002934101608"
      ]
     },
     "execution_count": 22,
     "metadata": {},
     "output_type": "execute_result"
    }
   ],
   "source": [
    "mean_squared_error(logY,yy)"
   ]
  },
  {
   "cell_type": "markdown",
   "metadata": {},
   "source": [
    "# Regressão Rotação de Givens"
   ]
  },
  {
   "cell_type": "markdown",
   "metadata": {},
   "source": [
    "### REGRESSÃO SEM LOG-SCALE "
   ]
  },
  {
   "cell_type": "code",
   "execution_count": 23,
   "metadata": {},
   "outputs": [
    {
     "data": {
      "text/plain": [
       "array([[  1,  50],\n",
       "       [  1,  70],\n",
       "       [  1, 100],\n",
       "       [  1, 150],\n",
       "       [  1, 200],\n",
       "       [  1, 300]], dtype=int32)"
      ]
     },
     "execution_count": 23,
     "metadata": {},
     "output_type": "execute_result"
    }
   ],
   "source": [
    "x = np.array(dim)\n",
    "A = x[:, np.newaxis]**[0,1]               #Criou uma nova coluna só de 1\n",
    "A"
   ]
  },
  {
   "cell_type": "code",
   "execution_count": 24,
   "metadata": {},
   "outputs": [
    {
     "data": {
      "text/plain": [
       "array([-17.26454095,   0.18876298])"
      ]
     },
     "execution_count": 24,
     "metadata": {},
     "output_type": "execute_result"
    }
   ],
   "source": [
    "#Achar y = a*x+b\n",
    "y = np.array(temposGivens)\n",
    "p, res, rnk, s = lstsq(A,y)\n",
    "p"
   ]
  },
  {
   "cell_type": "code",
   "execution_count": 25,
   "metadata": {},
   "outputs": [
    {
     "data": {
      "image/png": "[encoded data removed]",
      "text/plain": [
       "<Figure size 864x720 with 1 Axes>"
      ]
     },
     "metadata": {},
     "output_type": "display_data"
    }
   ],
   "source": [
    "plt.figure(figsize=(12,10))\n",
    "plt.scatter(x,y,marker= 'o', label='Dados',color='r')\n",
    "\n",
    "yy = p[0] + (p[1]*x)\n",
    "plt.plot(x, yy, label='Mínimos Quadrados, $y = ax + b$')\n",
    "plt.xlabel('x')\n",
    "plt.ylabel('y')\n",
    "plt.legend(framealpha=1, shadow=True,fontsize='x-large')\n",
    "plt.grid(alpha=0.25)\n",
    "plt.show()"
   ]
  },
  {
   "cell_type": "markdown",
   "metadata": {},
   "source": [
    "### REGRESSÃO COM LOG-SCALE"
   ]
  },
  {
   "cell_type": "code",
   "execution_count": 26,
   "metadata": {},
   "outputs": [],
   "source": [
    "logX = np.log(x)\n",
    "logY = np.log(y)"
   ]
  },
  {
   "cell_type": "code",
   "execution_count": 27,
   "metadata": {},
   "outputs": [
    {
     "data": {
      "text/plain": [
       "array([[1.        , 3.91202301],\n",
       "       [1.        , 4.24849524],\n",
       "       [1.        , 4.60517019],\n",
       "       [1.        , 5.01063529],\n",
       "       [1.        , 5.29831737],\n",
       "       [1.        , 5.70378247]])"
      ]
     },
     "execution_count": 27,
     "metadata": {},
     "output_type": "execute_result"
    }
   ],
   "source": [
    "logA = logX[:, np.newaxis]**[0,1]               #Criou uma nova coluna só de 1\n",
    "logA"
   ]
  },
  {
   "cell_type": "code",
   "execution_count": 28,
   "metadata": {},
   "outputs": [
    {
     "data": {
      "text/plain": [
       "array([-19.83400491,   4.1271165 ])"
      ]
     },
     "execution_count": 28,
     "metadata": {},
     "output_type": "execute_result"
    }
   ],
   "source": [
    "p, res, rnk, s = lstsq(logA,logY)\n",
    "p"
   ]
  },
  {
   "cell_type": "code",
   "execution_count": 29,
   "metadata": {},
   "outputs": [
    {
     "data": {
      "text/plain": [
       "0.20454006430408084"
      ]
     },
     "execution_count": 29,
     "metadata": {},
     "output_type": "execute_result"
    }
   ],
   "source": [
    "res"
   ]
  },
  {
   "cell_type": "code",
   "execution_count": 30,
   "metadata": {},
   "outputs": [
    {
     "data": {
      "image/png": "[encoded data removed]",
      "text/plain": [
       "<Figure size 864x720 with 1 Axes>"
      ]
     },
     "metadata": {},
     "output_type": "display_data"
    }
   ],
   "source": [
    "plt.figure(figsize=(12,10))\n",
    "plt.scatter(logX,logY,marker= 'o', label='Dados',color='r')\n",
    "\n",
    "yy = p[0] + (p[1]*logX)\n",
    "plt.plot(logX, yy, label='Mínimos Quadrados, $y = {}x {}$'.format(np.round(p[1],5),np.round(p[0],5)))\n",
    "plt.xlabel('x')\n",
    "plt.ylabel('y')\n",
    "plt.legend(framealpha=0.5, shadow=False,fontsize='x-large')\n",
    "plt.grid(alpha=0.5)\n",
    "plt.show()"
   ]
  },
  {
   "cell_type": "markdown",
   "metadata": {},
   "source": [
    "### Erro quadrático médio - Givens"
   ]
  },
  {
   "cell_type": "code",
   "execution_count": 32,
   "metadata": {},
   "outputs": [
    {
     "data": {
      "text/plain": [
       "0.03409001071734822"
      ]
     },
     "execution_count": 32,
     "metadata": {},
     "output_type": "execute_result"
    }
   ],
   "source": [
    "mean_squared_error(logY,yy)"
   ]
  },
  {
   "cell_type": "markdown",
   "metadata": {},
   "source": [
    "# Regressão Householder"
   ]
  },
  {
   "cell_type": "markdown",
   "metadata": {},
   "source": [
    "### REGRESSÃO SEM LOG-SCALE "
   ]
  },
  {
   "cell_type": "code",
   "execution_count": 33,
   "metadata": {},
   "outputs": [
    {
     "data": {
      "text/plain": [
       "array([[  1,  50],\n",
       "       [  1,  70],\n",
       "       [  1, 100],\n",
       "       [  1, 150],\n",
       "       [  1, 200],\n",
       "       [  1, 300]], dtype=int32)"
      ]
     },
     "execution_count": 33,
     "metadata": {},
     "output_type": "execute_result"
    }
   ],
   "source": [
    "x = np.array(dim)\n",
    "A = x[:, np.newaxis]**[0,1]               #Criou uma nova coluna só de 1\n",
    "A"
   ]
  },
  {
   "cell_type": "code",
   "execution_count": 34,
   "metadata": {},
   "outputs": [
    {
     "data": {
      "text/plain": [
       "array([-0.12797045,  0.00152528])"
      ]
     },
     "execution_count": 34,
     "metadata": {},
     "output_type": "execute_result"
    }
   ],
   "source": [
    "#Achar y = a*x+b\n",
    "y = np.array(temposHolder)\n",
    "p, res, rnk, s = lstsq(A,y)\n",
    "p"
   ]
  },
  {
   "cell_type": "code",
   "execution_count": 35,
   "metadata": {},
   "outputs": [
    {
     "data": {
      "image/png": "[encoded data removed]",
      "text/plain": [
       "<Figure size 864x720 with 1 Axes>"
      ]
     },
     "metadata": {},
     "output_type": "display_data"
    }
   ],
   "source": [
    "plt.figure(figsize=(12,10))\n",
    "plt.scatter(x,y,marker= 'o', label='Dados',color='r')\n",
    "\n",
    "yy = p[0] + (p[1]*x)\n",
    "plt.plot(x, yy, label='Mínimos Quadrados, $y = ax + b$')\n",
    "plt.xlabel('x')\n",
    "plt.ylabel('y')\n",
    "plt.legend(framealpha=1, shadow=True,fontsize='x-large')\n",
    "plt.grid(alpha=0.25)\n",
    "plt.show()"
   ]
  },
  {
   "cell_type": "markdown",
   "metadata": {},
   "source": [
    "### REGRESSÃO COM LOG-SCALE"
   ]
  },
  {
   "cell_type": "code",
   "execution_count": 36,
   "metadata": {},
   "outputs": [],
   "source": [
    "logX = np.log(x)\n",
    "logY = np.log(y)"
   ]
  },
  {
   "cell_type": "code",
   "execution_count": 37,
   "metadata": {},
   "outputs": [
    {
     "data": {
      "text/plain": [
       "array([[1.        , 3.91202301],\n",
       "       [1.        , 4.24849524],\n",
       "       [1.        , 4.60517019],\n",
       "       [1.        , 5.01063529],\n",
       "       [1.        , 5.29831737],\n",
       "       [1.        , 5.70378247]])"
      ]
     },
     "execution_count": 37,
     "metadata": {},
     "output_type": "execute_result"
    }
   ],
   "source": [
    "logA = logX[:, np.newaxis]**[0,1]               #Criou uma nova coluna só de 1\n",
    "logA"
   ]
  },
  {
   "cell_type": "code",
   "execution_count": 38,
   "metadata": {},
   "outputs": [
    {
     "data": {
      "text/plain": [
       "array([-15.21116968,   2.43578205])"
      ]
     },
     "execution_count": 38,
     "metadata": {},
     "output_type": "execute_result"
    }
   ],
   "source": [
    "p, res, rnk, s = lstsq(logA,logY)\n",
    "p"
   ]
  },
  {
   "cell_type": "code",
   "execution_count": 39,
   "metadata": {},
   "outputs": [
    {
     "data": {
      "text/plain": [
       "0.6199237280936534"
      ]
     },
     "execution_count": 39,
     "metadata": {},
     "output_type": "execute_result"
    }
   ],
   "source": [
    "res"
   ]
  },
  {
   "cell_type": "code",
   "execution_count": 40,
   "metadata": {},
   "outputs": [
    {
     "data": {
      "image/png": "[encoded data removed]",
      "text/plain": [
       "<Figure size 864x720 with 1 Axes>"
      ]
     },
     "metadata": {},
     "output_type": "display_data"
    }
   ],
   "source": [
    "plt.figure(figsize=(12,10))\n",
    "plt.scatter(logX,logY,marker= 'o', label='Dados',color='r')\n",
    "\n",
    "yy = p[0] + (p[1]*logX)\n",
    "plt.plot(logX, yy, label='Mínimos Quadrados, $y = {}x {}$'.format(np.round(p[1],5),np.round(p[0],5)))\n",
    "plt.xlabel('x')\n",
    "plt.ylabel('y')\n",
    "plt.legend(framealpha=0.5, shadow=False,fontsize='x-large')\n",
    "plt.grid(alpha=0.5)\n",
    "plt.show()"
   ]
  },
  {
   "cell_type": "markdown",
   "metadata": {},
   "source": [
    "### Erro quadrático médio - Householder"
   ]
  },
  {
   "cell_type": "code",
   "execution_count": 42,
   "metadata": {},
   "outputs": [
    {
     "data": {
      "text/plain": [
       "0.10332062134894386"
      ]
     },
     "execution_count": 42,
     "metadata": {},
     "output_type": "execute_result"
    }
   ],
   "source": [
    "mean_squared_error(logY,yy)"
   ]
  },
  {
   "cell_type": "markdown",
   "metadata": {},
   "source": [
    "# Considerações Finais\n",
    "O processo de Gram–Schmidt é tipicamente instável numericamente. Se por um lado a aplicação das projeções tem um apelo atraente á geométrica para a ortogonalização, a ortogonalização em si é propensa a erros numéricos. Uma grande vantagem, porém, é a facilidade de implementação, o que o torna um algoritmo útil para prototipagem.\n",
    "\n",
    "As transformações de Householder são a forma simples dos algoritmos de decomposição $QR$, numericamente estáveis devido a forma de produção dos zeros na matriz R. No entanto, o algoritmo de reflexão de Householder tem largura de banda pesada e não é paralelizável, já que cada transformação pode alterar completamente tanto a matriz $Q$ quanto $R$.\n",
    "\n",
    "A decomposição $QR$ utilizando rotações de Givens é mais complicada de implementar, a ordenação necessária das linhas para explorar plenamente o algoritmo  não é trivial. Ela tem uma vantagem significativa, pois cada novo elemento zero $a_{ij}$ afeta apenas a linha com o elemento a ser zerado e uma linha acima . Isso torna o algoritmo eficiente em largura de banda e paralelizável, diferentemente da técnica de reflexão de Householder."
   ]
  },
  {
   "cell_type": "markdown",
   "metadata": {},
   "source": [
    "# FIM \n",
    "## Obrigado pela atenção!"
   ]
  }
 ],
 "metadata": {
  "kernelspec": {
   "display_name": "Python 3",
   "language": "python",
   "name": "python3"
  }
 },
 "nbformat": 4,
 "nbformat_minor": 2
}
